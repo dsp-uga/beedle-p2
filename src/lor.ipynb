{
 "cells": [
  {
   "cell_type": "code",
   "execution_count": 1,
   "id": "earned-edwards",
   "metadata": {},
   "outputs": [],
   "source": [
    "import pandas as pd\n",
    "from pyspark.sql import SQLContext\n",
    "from pyspark.sql import SparkSession\n",
    "from pyspark.ml.classification import LogisticRegression\n",
    "from pyspark.ml import Pipeline\n",
    "from pyspark.ml.feature import VectorAssembler\n",
    "from pyspark import SparkContext\n",
    "\n",
    "sc= SparkSession.builder.getOrCreate()"
   ]
  },
  {
   "cell_type": "code",
   "execution_count": 2,
   "id": "after-picnic",
   "metadata": {},
   "outputs": [],
   "source": [
    "train_df = sc.read.csv(\"gs://uga-dsp/project2/files/X_train.csv\", header=True, inferSchema=True)\n",
    "train_df = train_df.withColumnRenamed('Sex (subj)','label')"
   ]
  },
  {
   "cell_type": "code",
   "execution_count": 3,
   "id": "activated-adolescent",
   "metadata": {},
   "outputs": [],
   "source": [
    "test_df1 = sc.read.csv(\"gs://uga-dsp/project2/files/Xa_test.csv\", header=True, inferSchema=True) \n",
    "test_df2 = sc.read.csv(\"gs://uga-dsp/project2/files/Xb_test.csv\", header=True, inferSchema=True)\n",
    "test_df3 = sc.read.csv(\"gs://uga-dsp/project2/files/Xc_test.csv\", header=True, inferSchema=True)"
   ]
  },
  {
   "cell_type": "code",
   "execution_count": 4,
   "id": "optimum-lodge",
   "metadata": {},
   "outputs": [],
   "source": [
    "feature_columns = train_df.columns[9:-1]\n",
    "assembler = VectorAssembler(inputCols=feature_columns,outputCol=\"features\")"
   ]
  },
  {
   "cell_type": "code",
   "execution_count": 5,
   "id": "charming-series",
   "metadata": {},
   "outputs": [],
   "source": [
    "lr = LogisticRegression(maxIter=20, regParam=0.05, elasticNetParam=0.3, labelCol=\"label\")\n",
    "p = Pipeline(stages=[assembler,lr])\n",
    "p_model = p.fit(train_df)"
   ]
  },
  {
   "cell_type": "code",
   "execution_count": 6,
   "id": "collaborative-chinese",
   "metadata": {},
   "outputs": [],
   "source": [
    "predictions_train = p_model.transform(train_df)\n",
    "predictions_test1 = p_model.transform(test_df1)\n",
    "predictions_test2 = p_model.transform(test_df2)\n",
    "predictions_test3 = p_model.transform(test_df3)\n",
    "\n",
    "\n",
    "predictionAndLabels1 = predictions_test1.select('prediction').coalesce(1).rdd.map(lambda x : int(x[0]))\n",
    "predictionAndLabels2 = predictions_test2.select('prediction').coalesce(1).rdd.map(lambda x : int(x[0]))\n",
    "predictionAndLabels3 = predictions_test3.select('prediction').coalesce(1).rdd.map(lambda x : int(x[0]))\n",
    "answer_list1 = predictionAndLabels1.collect()\n",
    "answer_list2 = predictionAndLabels2.collect()\n",
    "answer_list3 = predictionAndLabels3.collect()"
   ]
  },
  {
   "cell_type": "code",
   "execution_count": 7,
   "id": "emerging-accommodation",
   "metadata": {},
   "outputs": [
    {
     "name": "stdout",
     "output_type": "stream",
     "text": [
      "File written successfully\n",
      "File written successfully\n",
      "File written successfully\n"
     ]
    }
   ],
   "source": [
    "with open('ya.txt', 'w+') as f: \n",
    "      \n",
    "    # write elements of list \n",
    "    for items in answer_list1: \n",
    "        f.write('%s\\n' %items) \n",
    "      \n",
    "    print(\"File written successfully\") \n",
    "  \n",
    "  \n",
    "# close the file \n",
    "f.close()\n",
    "with open('yb.txt', 'w+') as f: \n",
    "      \n",
    "    # write elements of list \n",
    "    for items in answer_list2: \n",
    "        f.write('%s\\n' %items) \n",
    "      \n",
    "    print(\"File written successfully\") \n",
    "  \n",
    "  \n",
    "# close the file \n",
    "f.close()\n",
    "\n",
    "with open('yc.txt', 'w+') as f: \n",
    "      \n",
    "    # write elements of list \n",
    "    for items in answer_list3: \n",
    "        f.write('%s\\n' %items) \n",
    "      \n",
    "    print(\"File written successfully\") \n",
    "  \n",
    "  \n",
    "# close the file \n",
    "f.close()"
   ]
  },
  {
   "cell_type": "code",
   "execution_count": null,
   "id": "seeing-maldives",
   "metadata": {},
   "outputs": [],
   "source": []
  }
 ],
 "metadata": {
  "kernelspec": {
   "display_name": "PySpark",
   "language": "python",
   "name": "pyspark"
  },
  "language_info": {
   "codemirror_mode": {
    "name": "ipython",
    "version": 3
   },
   "file_extension": ".py",
   "mimetype": "text/x-python",
   "name": "python",
   "nbconvert_exporter": "python",
   "pygments_lexer": "ipython3",
   "version": "3.8.8"
  }
 },
 "nbformat": 4,
 "nbformat_minor": 5
}
